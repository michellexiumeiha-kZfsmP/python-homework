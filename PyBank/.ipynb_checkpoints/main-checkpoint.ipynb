{
 "cells": [
  {
   "cell_type": "markdown",
   "id": "28a919bd-1ec8-4658-89ff-7de64aebbbf2",
   "metadata": {},
   "source": [
    "# PyBank Financial Analysis"
   ]
  },
  {
   "cell_type": "code",
   "execution_count": 1,
   "id": "0ca552c8-5c0e-448f-9e00-7a5cd1a609cc",
   "metadata": {},
   "outputs": [],
   "source": [
    "## Import \n",
    "import pandas as pd\n",
    "from pathlib import Path"
   ]
  },
  {
   "cell_type": "code",
   "execution_count": 2,
   "id": "123607a1-a34c-4b38-b70b-7b84d0764ced",
   "metadata": {},
   "outputs": [],
   "source": [
    "## Specify path for budget data\n",
    "csvpath = Path(\"budget_data.csv\")\n",
    "\n",
    "## Read csv data\n",
    "budget_data = pd.read_csv(csvpath)"
   ]
  },
  {
   "cell_type": "code",
   "execution_count": 3,
   "id": "1868a39a-f929-415b-8612-c8f093a8713b",
   "metadata": {},
   "outputs": [],
   "source": [
    "## Add a column to show and calculate the change in monthly profit and loss called \"Change\"\n",
    "budget_data[\"Change\"] = budget_data[\"Profit/Losses\"].diff()"
   ]
  },
  {
   "cell_type": "code",
   "execution_count": 4,
   "id": "7d45e524-99fe-4713-befc-258c8ec8f345",
   "metadata": {},
   "outputs": [],
   "source": [
    "# Calculate summary financials\n",
    "## Calculate the total number of months included in the dataset using pandas count function\n",
    "months = budget_data[\"Date\"].count()\n",
    "\n",
    "## Calculate the net total amount of Profit/Losses over the entire period using pandas sum function.\n",
    "total_pnl = budget_data[\"Profit/Losses\"].sum()\n",
    "\n",
    "## Calculate the average of the changes in Profit/Losses over the entire period using pandas mean function\n",
    "average_pnl_change = budget_data[\"Change\"].mean()\n",
    "\n",
    "## Calculate the greatest increase in profits (date and amount) over the entire period using pandas max function\n",
    "maximum_change = budget_data[\"Change\"].max()\n",
    "maximum = budget_data[[\"Date\"]][budget_data.Change == budget_data[\"Change\"].max()]\n",
    "\n",
    "\n",
    "## Calculate the greatest decrease in losses (date and amount) over the entire period using pandas min function, and \n",
    "minimum_change = budget_data[\"Change\"].min()\n",
    "minimum = budget_data[[\"Date\"]][budget_data.Change == budget_data[\"Change\"].min()]"
   ]
  },
  {
   "cell_type": "code",
   "execution_count": 5,
   "id": "0eec8fa5-3d3c-4ff0-906b-4414d2797b3b",
   "metadata": {},
   "outputs": [
    {
     "name": "stdout",
     "output_type": "stream",
     "text": [
      "---------Summary Financials----------\n",
      "Total Months: 86\n",
      "Total Profit/Loss: 38382578\n",
      "Average change in Profit/Loss: -2315.1176470588234\n",
      "Greatest Increase in Profits:         Date\n",
      "25  Feb-2012 1926159.0\n",
      "Greatest Decrease in Losses:         Date\n",
      "44  Sep-2013 -2196167.0\n",
      "-------------------------------------\n"
     ]
    }
   ],
   "source": [
    "# Print out the Summary Financials\n",
    "print(\"---------Summary Financials----------\")\n",
    "print(f\"Total Months: {months}\")\n",
    "print(f\"Total Profit/Loss: {total_pnl}\")\n",
    "print(f\"Average change in Profit/Loss: {average_pnl_change}\")\n",
    "\n",
    "print(f\"Greatest Increase in Profits: {maximum} {maximum_change}\")\n",
    "print(f\"Greatest Decrease in Losses: {minimum} {minimum_change}\")\n",
    "print(\"-------------------------------------\")"
   ]
  },
  {
   "cell_type": "code",
   "execution_count": null,
   "id": "ff4f0a9e-d560-487f-be7b-074f5e4047ca",
   "metadata": {},
   "outputs": [],
   "source": []
  }
 ],
 "metadata": {
  "kernelspec": {
   "display_name": "Python 3",
   "language": "python",
   "name": "python3"
  },
  "language_info": {
   "codemirror_mode": {
    "name": "ipython",
    "version": 3
   },
   "file_extension": ".py",
   "mimetype": "text/x-python",
   "name": "python",
   "nbconvert_exporter": "python",
   "pygments_lexer": "ipython3",
   "version": "3.7.10"
  }
 },
 "nbformat": 4,
 "nbformat_minor": 5
}
